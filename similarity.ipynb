{
 "cells": [
  {
   "cell_type": "code",
   "execution_count": 1,
   "id": "9080fdb3",
   "metadata": {},
   "outputs": [],
   "source": [
    "from Levenshtein import * \n",
    "from fuzzywuzzy import fuzz\n",
    "#levenshtein\n",
    "import pandas as pd"
   ]
  },
  {
   "cell_type": "code",
   "execution_count": null,
   "id": "d89f0424",
   "metadata": {},
   "outputs": [],
   "source": [
    "data.to_csv()"
   ]
  },
  {
   "cell_type": "code",
   "execution_count": 9,
   "id": "1c3d159d",
   "metadata": {},
   "outputs": [],
   "source": [
    "data=pd.read_excel(r'C:\\Users\\z.abbasi\\Documents\\dataset\\test.xlsx')\n",
    "#data.rename(columns={0:'str1',1:'str2'})\n",
    "#data[\"str1\"]"
   ]
  },
  {
   "cell_type": "code",
   "execution_count": 3,
   "id": "af6c11da",
   "metadata": {},
   "outputs": [],
   "source": [
    "#data.iloc[:][1]"
   ]
  },
  {
   "cell_type": "code",
   "execution_count": 1,
   "id": "464d5aac",
   "metadata": {},
   "outputs": [],
   "source": [
    "def fuzz_token_similarity(data):\n",
    "    data['L_distance']=0\n",
    "    data['ratio']=0\n",
    "    data['jaro']=0\n",
    "    data['jaro_winkler']=0\n",
    "    data['f_ratio']=0\n",
    "    data['f_partial_ratio']=0\n",
    "    data['token_sort_ratio']=0\n",
    "    data['token_set_ratio']=0\n",
    "    \n",
    "    \n",
    "    \n",
    "    for i, row in data.iterrows():\n",
    "        S1=str(row[0])\n",
    "        S2=str(row[1])\n",
    "        \n",
    "        row['L_distance']=distance(S1,S2)\n",
    "        row['jaro']=jaro(S1,S2)\n",
    "        row['jaro_winkler']=jaro_winkler(S1,S2)\n",
    "        row['f_ratio']=fuzz.ratio(S1,S2)\n",
    "        row['f_partial_ratio']=fuzz.partial_ratio(S1,S2)\n",
    "        row['token_sort_ratio']=fuzz.token_sort_ratio(S1,S2)\n",
    "        row['token_set_ratio']=fuzz.token_set_ratio(S1,S2)\n",
    "        row['ratio']=ratio(S1,S2)\n",
    "        \n",
    "        \n",
    "        data.iloc[i]=row\n",
    "        \n",
    "        \n",
    "    return data"
   ]
  },
  {
   "cell_type": "code",
   "execution_count": null,
   "id": "adf4a05d",
   "metadata": {},
   "outputs": [],
   "source": [
    "txt = \"{:.0%}\"\n",
    "print(txt.format(0.25))"
   ]
  },
  {
   "cell_type": "code",
   "execution_count": 9,
   "id": "fce8c5c5",
   "metadata": {},
   "outputs": [],
   "source": [
    "def sim(data,col1='',col2='',new_col='',sim_type=\"\"):\n",
    "    data[new_col]=0\n",
    "    for i, row in data.iterrows():\n",
    "        S1=str(row[col1])\n",
    "        S2=str(row[col2])\n",
    "        \n",
    "        if sim_type==\"ratio\":\n",
    "            row[new_col]=ratio(S1,S2)\n",
    "        elif sim_type=='jaro':\n",
    "            row[new_col]=jaro(S1,S2)\n",
    "            \n",
    "        elif sim_type==\"jaro_winkler\" :\n",
    "            row[new_col]=jaro_winkler(S1,S2)\n",
    "            \n",
    "        elif sim_type==\"f_ratio\" :\n",
    "            row[new_col]=fuzz.ratio(S1,S2)\n",
    "            \n",
    "        elif sim_type==\"f_partial_ratio\" :\n",
    "            row[new_col]=fuzz.partial_ratio(S1,S2)\n",
    "            \n",
    "        elif sim_type==\"f_token_sort_ratio\" :\n",
    "            row[new_col]=fuzz.token_sort_ratio(S1,S2)\n",
    "        \n",
    "        elif sim_type==\"f_token_set_ratio\" :\n",
    "            row[new_col]=fuzz.token_set_ratio(S1,S2)\n",
    "            \n",
    "            \n",
    "        data.iloc[i]=row\n",
    "    return data\n",
    "  "
   ]
  },
  {
   "cell_type": "code",
   "execution_count": 1,
   "id": "8d177274",
   "metadata": {},
   "outputs": [],
   "source": [
    "sim(data,col1='str1',col2='str2',new_col='ratio',sim_type=\"f_partial_ratio\")"
   ]
  },
  {
   "cell_type": "code",
   "execution_count": null,
   "id": "1a6fad0d",
   "metadata": {},
   "outputs": [],
   "source": []
  }
 ],
 "metadata": {
  "kernelspec": {
   "display_name": "Python 3",
   "language": "python",
   "name": "python3"
  },
  "language_info": {
   "codemirror_mode": {
    "name": "ipython",
    "version": 3
   },
   "file_extension": ".py",
   "mimetype": "text/x-python",
   "name": "python",
   "nbconvert_exporter": "python",
   "pygments_lexer": "ipython3",
   "version": "3.7.9"
  }
 },
 "nbformat": 4,
 "nbformat_minor": 5
}
